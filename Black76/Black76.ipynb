{
 "cells": [
  {
   "cell_type": "code",
   "execution_count": 1,
   "metadata": {},
   "outputs": [],
   "source": [
    "### Library Import Initialization\n",
    "import numpy as np\n",
    "import pandas as pd\n",
    "import yfinance as yf\n",
    "from scipy.stats import norm\n"
   ]
  },
  {
   "cell_type": "code",
   "execution_count": 17,
   "metadata": {},
   "outputs": [
    {
     "name": "stderr",
     "output_type": "stream",
     "text": [
      "[*********************100%%**********************]  1 of 1 completed\n"
     ]
    },
    {
     "data": {
      "text/html": [
       "<div>\n",
       "<style scoped>\n",
       "    .dataframe tbody tr th:only-of-type {\n",
       "        vertical-align: middle;\n",
       "    }\n",
       "\n",
       "    .dataframe tbody tr th {\n",
       "        vertical-align: top;\n",
       "    }\n",
       "\n",
       "    .dataframe thead th {\n",
       "        text-align: right;\n",
       "    }\n",
       "</style>\n",
       "<table border=\"1\" class=\"dataframe\">\n",
       "  <thead>\n",
       "    <tr style=\"text-align: right;\">\n",
       "      <th></th>\n",
       "      <th>Date</th>\n",
       "      <th>GC=F</th>\n",
       "    </tr>\n",
       "  </thead>\n",
       "  <tbody>\n",
       "    <tr>\n",
       "      <th>585</th>\n",
       "      <td>2024-05-01</td>\n",
       "      <td>2299.899902</td>\n",
       "    </tr>\n",
       "    <tr>\n",
       "      <th>586</th>\n",
       "      <td>2024-05-02</td>\n",
       "      <td>2299.199951</td>\n",
       "    </tr>\n",
       "    <tr>\n",
       "      <th>587</th>\n",
       "      <td>2024-05-03</td>\n",
       "      <td>2299.000000</td>\n",
       "    </tr>\n",
       "    <tr>\n",
       "      <th>588</th>\n",
       "      <td>2024-05-06</td>\n",
       "      <td>2321.600098</td>\n",
       "    </tr>\n",
       "    <tr>\n",
       "      <th>589</th>\n",
       "      <td>2024-05-07</td>\n",
       "      <td>2321.699951</td>\n",
       "    </tr>\n",
       "  </tbody>\n",
       "</table>\n",
       "</div>"
      ],
      "text/plain": [
       "          Date         GC=F\n",
       "585 2024-05-01  2299.899902\n",
       "586 2024-05-02  2299.199951\n",
       "587 2024-05-03  2299.000000\n",
       "588 2024-05-06  2321.600098\n",
       "589 2024-05-07  2321.699951"
      ]
     },
     "execution_count": 17,
     "metadata": {},
     "output_type": "execute_result"
    }
   ],
   "source": [
    "### Function to Commodities Data\n",
    "# Define the list of commodity tickers\n",
    "#tickers = ['GC=F',  # Gold futures\n",
    "#           'SI=F',  # Silver futures\n",
    "#           'CL=F',  # Crude oil futures\n",
    "#           'HG=F',  # Copper futures\n",
    "#           'NG=F']  # Natural gas futures\n",
    "tickers = ['GC=F']\n",
    "\n",
    "def import_commod_data(tickers, start_date):\n",
    "    data = pd.DataFrame()\n",
    "    if len(tickers) == 1:\n",
    "        data[tickers[0]] = yf.download(tickers[0], start_date)['Adj Close']\n",
    "    else:\n",
    "        for t in tickers:\n",
    "            data[t] = yf.download(t, start_date)['Adj Close']\n",
    "    return data\n",
    "\n",
    "start_date = '2022-01-01'\n",
    "commod_data = import_commod_data(tickers, start_date)\n",
    "commod_data = commod_data.reset_index() # Turn Multi-Index into Column in Pandas \n",
    "commod_data.tail()"
   ]
  },
  {
   "cell_type": "code",
   "execution_count": null,
   "metadata": {},
   "outputs": [],
   "source": []
  }
 ],
 "metadata": {
  "kernelspec": {
   "display_name": "base",
   "language": "python",
   "name": "python3"
  },
  "language_info": {
   "codemirror_mode": {
    "name": "ipython",
    "version": 3
   },
   "file_extension": ".py",
   "mimetype": "text/x-python",
   "name": "python",
   "nbconvert_exporter": "python",
   "pygments_lexer": "ipython3",
   "version": "3.8.18"
  }
 },
 "nbformat": 4,
 "nbformat_minor": 2
}
