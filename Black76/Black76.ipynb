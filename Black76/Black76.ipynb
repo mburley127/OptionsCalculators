{
 "cells": [
  {
   "cell_type": "code",
   "execution_count": 78,
   "metadata": {},
   "outputs": [],
   "source": [
    "### Library Import Initialization\n",
    "import numpy as np\n",
    "import pandas as pd\n",
    "import yfinance as yf\n",
    "from scipy.stats import norm\n"
   ]
  },
  {
   "cell_type": "code",
   "execution_count": 79,
   "metadata": {},
   "outputs": [
    {
     "name": "stderr",
     "output_type": "stream",
     "text": [
      "[*********************100%%**********************]  1 of 1 completed\n",
      "[*********************100%%**********************]  1 of 1 completed\n",
      "[*********************100%%**********************]  1 of 1 completed\n"
     ]
    },
    {
     "data": {
      "text/html": [
       "<div>\n",
       "<style scoped>\n",
       "    .dataframe tbody tr th:only-of-type {\n",
       "        vertical-align: middle;\n",
       "    }\n",
       "\n",
       "    .dataframe tbody tr th {\n",
       "        vertical-align: top;\n",
       "    }\n",
       "\n",
       "    .dataframe thead th {\n",
       "        text-align: right;\n",
       "    }\n",
       "</style>\n",
       "<table border=\"1\" class=\"dataframe\">\n",
       "  <thead>\n",
       "    <tr style=\"text-align: right;\">\n",
       "      <th></th>\n",
       "      <th>Date</th>\n",
       "      <th>HG=F</th>\n",
       "      <th>SI=F</th>\n",
       "      <th>CL=F</th>\n",
       "    </tr>\n",
       "  </thead>\n",
       "  <tbody>\n",
       "    <tr>\n",
       "      <th>585</th>\n",
       "      <td>2024-05-01</td>\n",
       "      <td>4.5525</td>\n",
       "      <td>26.489000</td>\n",
       "      <td>79.000000</td>\n",
       "    </tr>\n",
       "    <tr>\n",
       "      <th>586</th>\n",
       "      <td>2024-05-02</td>\n",
       "      <td>4.4940</td>\n",
       "      <td>26.583000</td>\n",
       "      <td>78.949997</td>\n",
       "    </tr>\n",
       "    <tr>\n",
       "      <th>587</th>\n",
       "      <td>2024-05-03</td>\n",
       "      <td>4.5735</td>\n",
       "      <td>26.445000</td>\n",
       "      <td>78.110001</td>\n",
       "    </tr>\n",
       "    <tr>\n",
       "      <th>588</th>\n",
       "      <td>2024-05-06</td>\n",
       "      <td>4.6345</td>\n",
       "      <td>27.368999</td>\n",
       "      <td>78.480003</td>\n",
       "    </tr>\n",
       "    <tr>\n",
       "      <th>589</th>\n",
       "      <td>2024-05-07</td>\n",
       "      <td>4.5910</td>\n",
       "      <td>27.504999</td>\n",
       "      <td>78.320000</td>\n",
       "    </tr>\n",
       "  </tbody>\n",
       "</table>\n",
       "</div>"
      ],
      "text/plain": [
       "          Date    HG=F       SI=F       CL=F\n",
       "585 2024-05-01  4.5525  26.489000  79.000000\n",
       "586 2024-05-02  4.4940  26.583000  78.949997\n",
       "587 2024-05-03  4.5735  26.445000  78.110001\n",
       "588 2024-05-06  4.6345  27.368999  78.480003\n",
       "589 2024-05-07  4.5910  27.504999  78.320000"
      ]
     },
     "execution_count": 79,
     "metadata": {},
     "output_type": "execute_result"
    }
   ],
   "source": [
    "### Function to Commodities Data\n",
    "# Define the list of commodity tickers\n",
    "#tickers = ['GC=F',  # Gold futures\n",
    "#           'SI=F',  # Silver futures\n",
    "#           'CL=F',  # Crude oil futures\n",
    "#           'HG=F',  # Copper futures\n",
    "#           'NG=F']  # Natural gas futures\n",
    "tickers = ['HG=F','SI=F','CL=F']\n",
    "\n",
    "def import_commod_data(tickers, start_date):\n",
    "    data = pd.DataFrame()\n",
    "    if len(tickers) == 1:\n",
    "        data[tickers[0]] = yf.download(tickers[0], start_date)['Adj Close']\n",
    "    else:\n",
    "        for t in tickers:\n",
    "            data[t] = yf.download(t, start_date)['Adj Close']\n",
    "    return data\n",
    "\n",
    "start_date = '2022-01-01'\n",
    "commod_data = import_commod_data(tickers, start_date)\n",
    "commod_data = commod_data.reset_index() # Turn Multi-Index into Column in Pandas \n",
    "commod_data.tail()"
   ]
  },
  {
   "cell_type": "code",
   "execution_count": 80,
   "metadata": {},
   "outputs": [
    {
     "name": "stdout",
     "output_type": "stream",
     "text": [
      "HG=F    0.003590\n",
      "SI=F    0.021422\n",
      "CL=F    0.122108\n",
      "dtype: float64\n"
     ]
    }
   ],
   "source": [
    "### Function to compute sigma (std dev of log normal historical stock return data)\n",
    "def compute_sigma(returns):\n",
    "    # Compute the standard deviation of returns\n",
    "    sigma = np.std(returns) / 100\n",
    "    return sigma\n",
    "\n",
    "sigma = compute_sigma(commod_data[tickers])\n",
    "print(sigma)"
   ]
  },
  {
   "cell_type": "code",
   "execution_count": 81,
   "metadata": {},
   "outputs": [],
   "source": [
    "### Function to compute Black76 Model\n",
    "def Black76(option_type, r, S_0, K, T, sigma):\n",
    "    # Convert S_0 and K to NumPy arrays for element-wise operations\n",
    "    S_0 = np.array(S_0)\n",
    "    K = np.array(K)\n",
    "\n",
    "    # Calculate d_1 and d_2 element-wise\n",
    "    d_1 = (np.log(S_0 / K) + 0.5 * sigma**2 * T) / (sigma * np.sqrt(T))\n",
    "    d_2 = (np.log(S_0 / K) - 0.5 * sigma**2 * T) / (sigma * np.sqrt(T))\n",
    "\n",
    "    if option_type == 'call':\n",
    "        option_value = (np.exp(-r * T)) * (S_0 * norm.cdf(d_1) - K * norm.cdf(d_2))\n",
    "    elif option_type == 'put':\n",
    "        option_value = (np.exp(-r * T)) * (K * norm.cdf(-d_2) - S_0 * norm.cdf(-d_1))\n",
    "\n",
    "    return option_value\n",
    "    "
   ]
  },
  {
   "cell_type": "code",
   "execution_count": 92,
   "metadata": {},
   "outputs": [
    {
     "name": "stdout",
     "output_type": "stream",
     "text": [
      "HG=F: 1.382\n",
      "SI=F: 2.6283\n",
      "CL=F: 6.557\n"
     ]
    }
   ],
   "source": [
    "### Return Black76 Option Values\n",
    "# Extract most recent commodity prices as a list\n",
    "S_0 = commod_data.iloc[-1, 1:].values.tolist()\n",
    "# Create Strike Price list\n",
    "K = [6, 28.5, 79.5]\n",
    "# Type Specification and other metrics\n",
    "option_type = 'put'\n",
    "r = 0.05\n",
    "T = 1\n",
    "\n",
    "# Call B76 Function\n",
    "option_val = Black76(option_type, r, S_0, K, T, sigma)\n",
    "#print(option_val)\n",
    "# Return results in a printed list format\n",
    "option_val_list = []\n",
    "for i, ticker in enumerate(tickers):\n",
    "    option_val_list.append((ticker, option_val[i]))\n",
    "\n",
    "# Print each item in output on a new line\n",
    "for item in option_val_list:\n",
    "    print(f\"{item[0]}: {round(item[1], 4)}\")\n"
   ]
  },
  {
   "cell_type": "code",
   "execution_count": 89,
   "metadata": {},
   "outputs": [
    {
     "name": "stdout",
     "output_type": "stream",
     "text": [
      "The value of the put given the above inputs is: $3.7982 and the answer is supposed to be: $3.7982\n"
     ]
    }
   ],
   "source": [
    "### Manual Test\n",
    "S_0 = 42\n",
    "K = 42\n",
    "T = 1.5\n",
    "r = 0.05\n",
    "sigma = 0.20\n",
    "option_type = 'call'\n",
    "\n",
    "test = Black76(option_type, r, S_0, K, T, sigma)\n",
    "print('The value of the put given the above inputs is: $' + str(round(test, 4)) + ' and the answer is supposed to be: $3.7982')"
   ]
  }
 ],
 "metadata": {
  "kernelspec": {
   "display_name": "base",
   "language": "python",
   "name": "python3"
  },
  "language_info": {
   "codemirror_mode": {
    "name": "ipython",
    "version": 3
   },
   "file_extension": ".py",
   "mimetype": "text/x-python",
   "name": "python",
   "nbconvert_exporter": "python",
   "pygments_lexer": "ipython3",
   "version": "3.8.18"
  }
 },
 "nbformat": 4,
 "nbformat_minor": 2
}
