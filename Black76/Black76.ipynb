{
 "cells": [
  {
   "cell_type": "code",
   "execution_count": 1,
   "metadata": {},
   "outputs": [],
   "source": [
    "### Library Import Initialization\n",
    "import numpy as np\n",
    "import pandas as pd\n",
    "import yfinance as yf\n",
    "from scipy.stats import norm\n"
   ]
  },
  {
   "cell_type": "code",
   "execution_count": 8,
   "metadata": {},
   "outputs": [
    {
     "name": "stderr",
     "output_type": "stream",
     "text": [
      "[*********************100%%**********************]  1 of 1 completed\n",
      "[*********************100%%**********************]  1 of 1 completed\n",
      "[*********************100%%**********************]  1 of 1 completed\n"
     ]
    },
    {
     "data": {
      "text/html": [
       "<div>\n",
       "<style scoped>\n",
       "    .dataframe tbody tr th:only-of-type {\n",
       "        vertical-align: middle;\n",
       "    }\n",
       "\n",
       "    .dataframe tbody tr th {\n",
       "        vertical-align: top;\n",
       "    }\n",
       "\n",
       "    .dataframe thead th {\n",
       "        text-align: right;\n",
       "    }\n",
       "</style>\n",
       "<table border=\"1\" class=\"dataframe\">\n",
       "  <thead>\n",
       "    <tr style=\"text-align: right;\">\n",
       "      <th></th>\n",
       "      <th>Date</th>\n",
       "      <th>HG=F</th>\n",
       "      <th>SI=F</th>\n",
       "      <th>CL=F</th>\n",
       "    </tr>\n",
       "  </thead>\n",
       "  <tbody>\n",
       "    <tr>\n",
       "      <th>635</th>\n",
       "      <td>2024-07-15</td>\n",
       "      <td>4.529</td>\n",
       "      <td>30.672001</td>\n",
       "      <td>81.910004</td>\n",
       "    </tr>\n",
       "    <tr>\n",
       "      <th>636</th>\n",
       "      <td>2024-07-16</td>\n",
       "      <td>4.444</td>\n",
       "      <td>31.195000</td>\n",
       "      <td>80.760002</td>\n",
       "    </tr>\n",
       "    <tr>\n",
       "      <th>637</th>\n",
       "      <td>2024-07-17</td>\n",
       "      <td>4.399</td>\n",
       "      <td>30.136999</td>\n",
       "      <td>82.849998</td>\n",
       "    </tr>\n",
       "    <tr>\n",
       "      <th>638</th>\n",
       "      <td>2024-07-18</td>\n",
       "      <td>4.266</td>\n",
       "      <td>29.995001</td>\n",
       "      <td>82.820000</td>\n",
       "    </tr>\n",
       "    <tr>\n",
       "      <th>639</th>\n",
       "      <td>2024-07-19</td>\n",
       "      <td>4.219</td>\n",
       "      <td>29.087999</td>\n",
       "      <td>80.129997</td>\n",
       "    </tr>\n",
       "  </tbody>\n",
       "</table>\n",
       "</div>"
      ],
      "text/plain": [
       "          Date   HG=F       SI=F       CL=F\n",
       "635 2024-07-15  4.529  30.672001  81.910004\n",
       "636 2024-07-16  4.444  31.195000  80.760002\n",
       "637 2024-07-17  4.399  30.136999  82.849998\n",
       "638 2024-07-18  4.266  29.995001  82.820000\n",
       "639 2024-07-19  4.219  29.087999  80.129997"
      ]
     },
     "execution_count": 8,
     "metadata": {},
     "output_type": "execute_result"
    }
   ],
   "source": [
    "### Function to Commodities Data\n",
    "# Define the list of commodity tickers\n",
    "#tickers = ['GC=F',  # Gold futures\n",
    "#           'SI=F',  # Silver futures\n",
    "#           'CL=F',  # Crude oil futures\n",
    "#           'HG=F',  # Copper futures\n",
    "#           'NG=F']  # Natural gas futures\n",
    "tickers = ['HG=F', 'SI=F', 'CL=F']\n",
    "\n",
    "def import_commod_data(tickers, start_date):\n",
    "    data = pd.DataFrame()\n",
    "    if len(tickers) == 1:\n",
    "        data[tickers[0]] = yf.download(tickers[0], start_date)['Adj Close']\n",
    "    else:\n",
    "        for t in tickers:\n",
    "            data[t] = yf.download(t, start_date)['Adj Close']\n",
    "    return data\n",
    "\n",
    "start_date = '2022-01-01'\n",
    "commod_data = import_commod_data(tickers, start_date)\n",
    "commod_data = commod_data.reset_index() # Turn Multi-Index into Column in Pandas \n",
    "commod_data.tail()"
   ]
  },
  {
   "cell_type": "code",
   "execution_count": 3,
   "metadata": {},
   "outputs": [
    {
     "name": "stdout",
     "output_type": "stream",
     "text": [
      "         HG=F      SI=F      CL=F\n",
      "635 -0.015114 -0.006929 -0.003649\n",
      "636 -0.018768  0.017051 -0.014040\n",
      "637 -0.010126 -0.033916  0.025879\n",
      "638 -0.030234 -0.004712 -0.000362\n",
      "639 -0.011017 -0.030238 -0.032480\n"
     ]
    }
   ],
   "source": [
    "### Compute Daily Returns\n",
    "def daily_returns(commod_data):\n",
    "    # Drop the date column\n",
    "    commod_data = commod_data.drop(columns = ['Date'])\n",
    "    # Compute the percentage change\n",
    "    rets = commod_data.pct_change().dropna()\n",
    "    \n",
    "    return rets\n",
    "\n",
    "returns = daily_returns(commod_data)\n",
    "print(returns.tail())\n"
   ]
  },
  {
   "cell_type": "code",
   "execution_count": 4,
   "metadata": {},
   "outputs": [
    {
     "name": "stdout",
     "output_type": "stream",
     "text": [
      "HG=F    0.241712\n",
      "SI=F    0.295619\n",
      "CL=F    0.384252\n",
      "dtype: float64\n"
     ]
    }
   ],
   "source": [
    "### Function to compute sigma (std dev of log normal historical stock return data)\n",
    "def compute_sigma(rets):\n",
    "    # Compute the standard deviation of returns\n",
    "    sigma = np.std(rets) * np.sqrt(252) # annualize the standard deviation\n",
    "\n",
    "    return sigma\n",
    "\n",
    "sigma = compute_sigma(returns)\n",
    "print(sigma)\n"
   ]
  },
  {
   "cell_type": "code",
   "execution_count": 5,
   "metadata": {},
   "outputs": [],
   "source": [
    "### Function to compute Black76 Model\n",
    "def Black76(option_type, r, S_0, K, T, sigma):\n",
    "    # Convert S_0 and K to NumPy arrays for element-wise operations\n",
    "    S_0 = np.array(S_0)\n",
    "    K = np.array(K)\n",
    "\n",
    "    # Calculate d_1 and d_2 element-wise\n",
    "    d_1 = (np.log(S_0 / K) + 0.5 * sigma**2 * T) / (sigma * np.sqrt(T))\n",
    "    d_2 = (np.log(S_0 / K) - 0.5 * sigma**2 * T) / (sigma * np.sqrt(T))\n",
    "\n",
    "    if option_type == 'call':\n",
    "        option_value = (np.exp(-r * T)) * (S_0 * norm.cdf(d_1) - K * norm.cdf(d_2))\n",
    "    elif option_type == 'put':\n",
    "        option_value = (np.exp(-r * T)) * (K * norm.cdf(-d_2) - S_0 * norm.cdf(-d_1))\n",
    "\n",
    "    return option_value\n",
    "    "
   ]
  },
  {
   "cell_type": "code",
   "execution_count": 6,
   "metadata": {},
   "outputs": [
    {
     "name": "stdout",
     "output_type": "stream",
     "text": [
      "HG=F: 1.7313\n",
      "SI=F: 2.9464\n",
      "CL=F: 11.27\n"
     ]
    }
   ],
   "source": [
    "### Return Black76 Option Values\n",
    "# Extract most recent commodity prices as a list\n",
    "S_0 = commod_data.iloc[-1, 1:].values.tolist()\n",
    "# Create Strike Price list\n",
    "K = [6, 28.5, 79.5]\n",
    "# Type Specification and other metrics\n",
    "option_type = 'put'\n",
    "r = 0.05\n",
    "T = 1\n",
    "\n",
    "# Call B76 Function\n",
    "option_val = Black76(option_type, r, S_0, K, T, sigma)\n",
    "#print(option_val)\n",
    "# Return results in a printed list format\n",
    "option_val_list = []\n",
    "for i, ticker in enumerate(tickers):\n",
    "    option_val_list.append((ticker, option_val[i]))\n",
    "\n",
    "# Print each item in output on a new line\n",
    "for item in option_val_list:\n",
    "    print(f\"{item[0]}: {round(item[1], 4)}\")\n"
   ]
  },
  {
   "cell_type": "code",
   "execution_count": 7,
   "metadata": {},
   "outputs": [
    {
     "name": "stdout",
     "output_type": "stream",
     "text": [
      "The value of the put given the above inputs is: $3.7982\n",
      "and the answer is supposed to be: $3.7982\n"
     ]
    }
   ],
   "source": [
    "### Manual Test\n",
    "S_0 = 42\n",
    "K = 42\n",
    "T = 1.5\n",
    "r = 0.05\n",
    "sigma = 0.20\n",
    "option_type = 'call'\n",
    "\n",
    "test = Black76(option_type, r, S_0, K, T, sigma)\n",
    "print(f'The value of the put given the above inputs is: ${round(test, 4)}\\nand the answer is supposed to be: $3.7982')\n"
   ]
  }
 ],
 "metadata": {
  "kernelspec": {
   "display_name": "base",
   "language": "python",
   "name": "python3"
  },
  "language_info": {
   "codemirror_mode": {
    "name": "ipython",
    "version": 3
   },
   "file_extension": ".py",
   "mimetype": "text/x-python",
   "name": "python",
   "nbconvert_exporter": "python",
   "pygments_lexer": "ipython3",
   "version": "3.8.18"
  }
 },
 "nbformat": 4,
 "nbformat_minor": 2
}
