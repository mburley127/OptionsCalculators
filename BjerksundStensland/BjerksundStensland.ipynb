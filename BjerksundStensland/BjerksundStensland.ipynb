{
 "cells": [
  {
   "cell_type": "code",
   "execution_count": 90,
   "metadata": {},
   "outputs": [],
   "source": [
    "### Library Import Initialization\n",
    "\n",
    "import numpy as np\n",
    "import math\n",
    "from math import *\n",
    "import pandas as pd\n",
    "import yfinance as yf\n",
    "import matplotlib.pyplot as plt\n",
    "import seaborn as sns\n",
    "from scipy.stats import norm\n",
    "import warnings\n",
    "warnings.filterwarnings(\"ignore\")"
   ]
  },
  {
   "cell_type": "code",
   "execution_count": 91,
   "metadata": {},
   "outputs": [
    {
     "name": "stderr",
     "output_type": "stream",
     "text": [
      "[*********************100%%**********************]  1 of 1 completed\n"
     ]
    },
    {
     "data": {
      "text/plain": [
       "152.25999450683594"
      ]
     },
     "execution_count": 91,
     "metadata": {},
     "output_type": "execute_result"
    }
   ],
   "source": [
    "### Function to Import Stock Tickers and Calculate Final Stock Price\n",
    "def import_stock_data(tickers, start_date):\n",
    "    data = pd.DataFrame()\n",
    "    if len([tickers]) == 1:\n",
    "        data[tickers] = yf.download(tickers, start_date)['Adj Close']\n",
    "        data = pd.DataFrame(data)\n",
    "    else:\n",
    "        for t in tickers:\n",
    "            data[t] = yf.download(tickers, start_date)['Adj Close']\n",
    "    return data\n",
    "\n",
    "tickers = 'GOOG'\n",
    "stock_data = import_stock_data(tickers, '2018-01-01')\n",
    "# Get the Current Stock Price (Starting Node of Tree)\n",
    "S_0 = stock_data[tickers].iloc[-1]\n",
    "S_0\n"
   ]
  },
  {
   "cell_type": "code",
   "execution_count": 92,
   "metadata": {},
   "outputs": [
    {
     "data": {
      "text/plain": [
       "0.32869474791095804"
      ]
     },
     "execution_count": 92,
     "metadata": {},
     "output_type": "execute_result"
    }
   ],
   "source": [
    "### Sigma Calculation \n",
    "def compute_sigma(data):\n",
    "    # Compute the standard deviation of returns\n",
    "    sigma = np.std(data) / 100\n",
    "    return sigma\n",
    "\n",
    "get_sigma = compute_sigma(stock_data)\n",
    "sigma = get_sigma.values[0]\n",
    "sigma"
   ]
  },
  {
   "cell_type": "code",
   "execution_count": 93,
   "metadata": {},
   "outputs": [],
   "source": [
    "### Cumulative standard normal distribution\n",
    "def cdf(x):\n",
    "    return (1.0 + erf(x / np.sqrt(2.0))) / 2.0\n",
    "\n",
    "### Compute phi Function\n",
    "def phi(S_0, T, y, H, I, r, b, sigma):\n",
    "    '''\n",
    "    ϕ(S,T,y,H,I) represents the price of an American option with a continuous barrier. It incorporates the effects of early exercise \n",
    "    and the presence of a barrier, which can be either up-and-out, up-and-in, down-and-out, or down-and-in, depending on the \n",
    "    relative positions of the barrier level and the current asset price\n",
    "    The function takes the following parameters:\n",
    "    S_0: Current price of the underlying asset\n",
    "    T: Time to expiration of the option\n",
    "    y: The \"nu\" parameter, or gamma, which is often related to the cost of carry or dividend yield\n",
    "    H: The barrier level\n",
    "    I: The rebate, which is a cash payment given if the barrier is hit\n",
    "    '''\n",
    "    d1 = (np.log(S_0 / H) + (b + (y - 0.5) * sigma ** 2) * T) / (sigma * np.sqrt(T))\n",
    "    d2 = d1 - sigma * np.sqrt(T)\n",
    "\n",
    "    phi = S_0 * cdf(d1) - np.exp(-r * T) * I * cdf(d2)\n",
    "    \n",
    "    return phi\n"
   ]
  },
  {
   "cell_type": "code",
   "execution_count": 94,
   "metadata": {},
   "outputs": [],
   "source": [
    "# Compute psi Function\n",
    "def psi(S_0, T, y, H, I_2, I_1, t_1, r, b, sigma):\n",
    "    '''\n",
    "    psi is a crucial part of the BS call option approximation formula as it incorporates the barrier feature and early exercise behavior into the option pricing calculation\n",
    "\n",
    "    S_0: Current price of the underlying asset (stock price).\n",
    "    T: Time to expiration of the option (in years).\n",
    "    y: The \"gamma\" parameter, which may represent the cost of carry or dividend yield.\n",
    "    H: The barrier level. This is the price level at which the barrier option comes into effect.\n",
    "    I_2: Second flat boundary. This is related to the barrier structure and may have specific conditions for early exercise or option value adjustments.\n",
    "    I_1​: First flat boundary. Similar to I_2​, this is also part of the barrier structure and affects the option's behavior.\n",
    "    t_1​: Time boundary. This represents the time at which the second flat boundary (I_2​) comes into effect.\n",
    "    r: Risk-free interest rate. This is typically the interest rate on a risk-free asset, such as a government bond.\n",
    "    b: Cost of carry. This can include costs such as storage costs, financing costs, or dividend yield, depending on the context.\n",
    "    sigma: Volatility of the underlying asset's returns. This measures the variability of the asset's price over time.\n",
    "    '''\n",
    "    psi = phi(S_0, t_1, y, H, I_2, r, b, sigma) - phi(S_0, t_1, y, H, I_1, r, b, sigma) \\\n",
    "          - I_2 * np.exp(-r * T) * (norm.cdf((-np.log(I_2 ** 2 / (S_0 * H)) + (b + (y - 0.5) * sigma ** 2) * T) / (sigma * np.sqrt(T)))\n",
    "                                    - norm.cdf((-np.log(I_2 ** 2 / (S_0 * H))) / (sigma * np.sqrt(T)))) \\\n",
    "          + I_1 * np.exp(-r * T) * (norm.cdf((-np.log(I_1 ** 2 / (S_0 * H)) + (b + (y - 0.5) * sigma ** 2) * T) / (sigma * np.sqrt(T)))\n",
    "                                    - norm.cdf((-np.log(I_1 ** 2 / (S_0 * H))) / (sigma * np.sqrt(T))))\n",
    "    return psi"
   ]
  },
  {
   "cell_type": "code",
   "execution_count": 95,
   "metadata": {},
   "outputs": [],
   "source": [
    "### Compute Bjerksund-Stensland Call\n",
    "def bjerksund_stensland_call(S_0, K, T, r, b, sigma):\n",
    "    '''\n",
    "    S_0: Current price of the underlying asset (stock price).\n",
    "    K: Asset strike price\n",
    "    T: Time to expiration of the option (in years).\n",
    "    H: The barrier level. This is the price level at which the barrier option comes into effect.\n",
    "    I_2: Second flat boundary. This is related to the barrier structure and may have specific conditions for early exercise or option value adjustments.\n",
    "    I_1​: First flat boundary. Similar to I_2​, this is also part of the barrier structure and affects the option's behavior.\n",
    "    t_1​: Time boundary. This represents the time at which the second flat boundary (I_2​) comes into effect.\n",
    "    r: Risk-free interest rate. This is typically the interest rate on a risk-free asset, such as a government bond.\n",
    "    b: Cost of carry. This can include costs such as storage costs, financing costs, or dividend yield, depending on the context.\n",
    "    B_0: The lower boundary or \"floor\" of the option's pricing domain. It is often associated with the intrinsic value of the option.\n",
    "    B_infty: The upper boundary or \"ceiling\" of the option's pricing domain. It is the maximum value that the option can reach under certain conditions.\n",
    "    sigma: Volatility of the underlying asset's returns. This measures the variability of the asset's price over time.\n",
    "    '''\n",
    "    # Calculate Beta, the exponent parameter in the Black-Scholes formula\n",
    "    Beta = (0.5 - (b / sigma ** 2)) + np.sqrt(((b / sigma ** 2) - 0.5) ** 2 + 2 * r / sigma ** 2)\n",
    "\n",
    "    # Calculate B_0 and B_infty, parameters related to the option's strike price and boundaries\n",
    "    B_0 = Beta / (Beta - 1) * K\n",
    "    B_infty = max(K, r / (r - b) * K)\n",
    "\n",
    "    # Calculate t_1, a time parameter used in barrier option calculations\n",
    "    t_1 = 0.5 * (np.sqrt(5) - 1) * T\n",
    "\n",
    "    # Calculate h_1 and h_2, parameters related to the option's barrier and pricing\n",
    "    h_1 = -((b * t_1) + 2 * sigma * np.sqrt(t_1)) * (K ** 2 / ((B_infty - B_0) * B_0))\n",
    "    h_2 = -((b * T) + 2 * sigma * np.sqrt(T)) * (K ** 2 / ((B_infty - B_0) * B_0))\n",
    "\n",
    "    # Calculate I_1 and I_2, trigger prices used in barrier option pricing\n",
    "    I_1 = B_0 + (B_infty - B_0) * (1 - np.exp(h_1))\n",
    "    I_2 = B_0 + (B_infty - B_0) * (1 - np.exp(h_2))\n",
    "\n",
    "    # Calculate alpha_1 and alpha_2, coefficients used in option pricing formulas\n",
    "    alpha_1 = (I_1 - K) * (I_1) ** (-Beta)\n",
    "    alpha_2 = (I_2 - K) * (I_2) ** (-Beta)\n",
    "    \n",
    "    # Logic to determine whether to exercise option\n",
    "    if (S_0 >= I_2).item() and b >= r:\n",
    "        # If stock price >= upper trigger price (boundary has been met), option price = intrinsic value\n",
    "        call_approx = S_0 - K\n",
    "    else:\n",
    "        # Compute the call option approximation using the BS formula and related functions\n",
    "        call_approx = (\n",
    "            alpha_2 * (S_0 ** Beta) - alpha_2 * phi(S_0, t_1, Beta, I_2, I_2, r, b, sigma) +\n",
    "            phi(S_0, t_1, 1, I_2, I_2, r, b, sigma) - phi(S_0, t_1, 1, I_1, I_2, r, b, sigma) -\n",
    "            K * phi(S_0, t_1, 0, I_2, I_2, r, b, sigma) + K * phi(S_0, t_1, 0, I_1, I_2, r, b, sigma) +\n",
    "            alpha_1 * phi(S_0, t_1, Beta, I_1, I_2, r, b, sigma) - alpha_1 * psi(S_0, T, Beta, I_1, I_2, I_1, t_1, r, b,\n",
    "                                                                                 sigma) +\n",
    "            psi(S_0, T, 1, I_1, I_2, I_1, t_1, r, b, sigma) - psi(S_0, T, 1, K, I_2, I_1, t_1, r, b, sigma) -\n",
    "            K * psi(S_0, T, 0, I_1, I_2, I_1, t_1, r, b, sigma) + psi(S_0, T, 0, K, I_2, I_1, t_1, r, b, sigma)\n",
    "            )\n",
    "    \n",
    "    # in boundary conditions, this approximation can break down\n",
    "    # Make sure option value is greater than or equal to European value\n",
    "    #value = max(value, e_value)\n",
    "\n",
    "    return t_1, h_1, h_2, I_1, I_2, call_approx"
   ]
  },
  {
   "cell_type": "code",
   "execution_count": 96,
   "metadata": {},
   "outputs": [
    {
     "name": "stdout",
     "output_type": "stream",
     "text": [
      "First flat boundary (I_1): 451.54992\n",
      "Second flat boundary (I_2): 460.66972\n",
      "Time boundary (t_1): 226.0 days\n",
      "h_1: 0.11135\n",
      "h_2: 0.14164\n",
      "Bjerksund-Stensland call approximation: 58.47639\n"
     ]
    }
   ],
   "source": [
    "### Function Call\n",
    "# Compute the Bjerksund-Stensland call approximation\n",
    "t_1, h_1, h_2, I_1, I_2, call_approx = bjerksund_stensland_call(S_0=S_0, K=155, T=1, r=0.05, b=0, sigma=sigma)\n",
    "\n",
    "# Print the results\n",
    "print(\"First flat boundary (I_1):\", round(I_1, 5))\n",
    "print(\"Second flat boundary (I_2):\", round(I_2, 5))\n",
    "print(\"Time boundary (t_1):\", str(round(t_1*365, 0)) + ' days')\n",
    "print(\"h_1:\", round(h_1, 5))\n",
    "print(\"h_2:\", round(h_2, 5))\n",
    "print(\"Bjerksund-Stensland call approximation:\", round(call_approx, 5))\n"
   ]
  }
 ],
 "metadata": {
  "kernelspec": {
   "display_name": "base",
   "language": "python",
   "name": "python3"
  },
  "language_info": {
   "codemirror_mode": {
    "name": "ipython",
    "version": 3
   },
   "file_extension": ".py",
   "mimetype": "text/x-python",
   "name": "python",
   "nbconvert_exporter": "python",
   "pygments_lexer": "ipython3",
   "version": "3.8.18"
  }
 },
 "nbformat": 4,
 "nbformat_minor": 2
}
